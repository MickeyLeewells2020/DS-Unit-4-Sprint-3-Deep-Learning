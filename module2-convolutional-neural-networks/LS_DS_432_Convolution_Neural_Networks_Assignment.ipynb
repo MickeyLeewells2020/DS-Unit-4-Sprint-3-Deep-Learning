{
  "nbformat": 4,
  "nbformat_minor": 0,
  "metadata": {
    "kernelspec": {
      "name": "python3",
      "display_name": "Python 3"
    },
    "nteract": {
      "version": "0.23.1"
    },
    "colab": {
      "name": "Copy of LS_DS_432_Convolution_Neural_Networks_Assignment.ipynb",
      "provenance": [],
      "toc_visible": true,
      "include_colab_link": true
    },
    "accelerator": "GPU"
  },
  "cells": [
    {
      "cell_type": "markdown",
      "metadata": {
        "id": "view-in-github",
        "colab_type": "text"
      },
      "source": [
        "<a href=\"https://colab.research.google.com/github/MickeyLeewells2020/DS-Unit-4-Sprint-3-Deep-Learning/blob/main/module2-convolutional-neural-networks/LS_DS_432_Convolution_Neural_Networks_Assignment.ipynb\" target=\"_parent\"><img src=\"https://colab.research.google.com/assets/colab-badge.svg\" alt=\"Open In Colab\"/></a>"
      ]
    },
    {
      "cell_type": "markdown",
      "metadata": {
        "id": "Aa_xHxYt8PgZ",
        "colab_type": "text"
      },
      "source": [
        "<img align=\"left\" src=\"https://lever-client-logos.s3.amazonaws.com/864372b1-534c-480e-acd5-9711f850815c-1524247202159.png\" width=200>\n",
        "<br></br>\n",
        "<br></br>\n",
        "\n",
        "## *Data Science Unit 4 Sprint 3 Assignment 2*\n",
        "# Convolutional Neural Networks (CNNs)"
      ]
    },
    {
      "cell_type": "markdown",
      "metadata": {
        "colab_type": "text",
        "id": "0lfZdD_cp1t5"
      },
      "source": [
        "# Assignment\n",
        "\n",
        "- <a href=\"#p1\">Part 1:</a> Pre-Trained Model\n",
        "- <a href=\"#p2\">Part 2:</a> Custom CNN Model\n",
        "- <a href=\"#p3\">Part 3:</a> CNN with Data Augmentation\n",
        "\n",
        "\n",
        "You will apply three different CNN models to a binary image classification model using Keras. Classify images of Mountains (`./data/train/mountain/*`) and images of forests (`./data/train/forest/*`). Treat mountains as the positive class (1) and the forest images as the negative (zero). \n",
        "\n",
        "|Mountain (+)|Forest (-)|\n",
        "|---|---|\n",
        "|![](https://github.com/MickeyLeewells2020/DS-Unit-4-Sprint-3-Deep-Learning/blob/main/module2-convolutional-neural-networks/data/train/mountain/art1131.jpg?raw=1)|![](https://github.com/MickeyLeewells2020/DS-Unit-4-Sprint-3-Deep-Learning/blob/main/module2-convolutional-neural-networks/data/validation/forest/cdmc317.jpg?raw=1)|\n",
        "\n",
        "The problem is relatively difficult given that the sample is tiny: there are about 350 observations per class. This sample size might be something that you can expect with prototyping an image classification problem/solution at work. Get accustomed to evaluating several different possible models."
      ]
    },
    {
      "cell_type": "markdown",
      "metadata": {
        "colab_type": "text",
        "id": "b6vzDmdA8Pgb"
      },
      "source": [
        "# Pre - Trained Model\n",
        "<a id=\"p1\"></a>\n",
        "\n",
        "Load a pretrained network from Keras, [ResNet50](https://tfhub.dev/google/imagenet/resnet_v1_50/classification/1) - a 50 layer deep network trained to recognize [1000 objects](https://storage.googleapis.com/download.tensorflow.org/data/ImageNetLabels.txt). Starting usage:\n",
        "\n",
        "```python\n",
        "import numpy as np\n",
        "\n",
        "from tensorflow.keras.applications.resnet50 import ResNet50\n",
        "from tensorflow.keras.preprocessing import image\n",
        "from tensorflow.keras.applications.resnet50 import preprocess_input, decode_predictions\n",
        "\n",
        "from tensorflow.keras.layers import Dense, GlobalAveragePooling2D\n",
        "from tensorflow.keras.models import Model # This is the functional API\n",
        "\n",
        "resnet = ResNet50(weights='imagenet', include_top=False)\n",
        "\n",
        "```\n",
        "\n",
        "The `include_top` parameter in `ResNet50` will remove the full connected layers from the ResNet model. The next step is to turn off the training of the ResNet layers. We want to use the learned parameters without updating them in future training passes. \n",
        "\n",
        "```python\n",
        "for layer in resnet.layers:\n",
        "    layer.trainable = False\n",
        "```\n",
        "\n",
        "Using the Keras functional API, we will need to additional additional full connected layers to our model. We we removed the top layers, we removed all preivous fully connected layers. In other words, we kept only the feature processing portions of our network. You can expert with additional layers beyond what's listed here. The `GlobalAveragePooling2D` layer functions as a really fancy flatten function by taking the average of each of the last convolutional layer outputs (which is two dimensional still). \n",
        "\n",
        "```python\n",
        "x = resnet.output\n",
        "x = GlobalAveragePooling2D()(x) # This layer is a really fancy flatten\n",
        "x = Dense(1024, activation='relu')(x)\n",
        "predictions = Dense(1, activation='sigmoid')(x)\n",
        "model = Model(resnet.input, predictions)\n",
        "```\n",
        "\n",
        "Your assignment is to apply the transfer learning above to classify images of Mountains (`./data/train/mountain/*`) and images of forests (`./data/train/forest/*`). Treat mountains as the positive class (1) and the forest images as the negative (zero). \n",
        "\n",
        "Steps to complete assignment: \n",
        "1. Load in Image Data into numpy arrays (`X`) \n",
        "2. Create a `y` for the labels\n",
        "3. Train your model with pre-trained layers from resnet\n",
        "4. Report your model's accuracy"
      ]
    },
    {
      "cell_type": "markdown",
      "metadata": {
        "id": "jx_h7ebR8Pgc",
        "colab_type": "text"
      },
      "source": [
        "## Load in Data\n",
        "\n",
        "This surprisingly more difficult than it seems, because you are working with directories of images instead of a single file. This boiler plate will help you download a zipped version of the directory of images. The directory is organized into \"train\" and \"validation\" which you can use inside an `ImageGenerator` class to stream batches of images thru your model.  \n"
      ]
    },
    {
      "cell_type": "markdown",
      "metadata": {
        "id": "ssxYHe6g8Pgc",
        "colab_type": "text"
      },
      "source": [
        "### Download & Summarize the Data\n",
        "\n",
        "This step is completed for you. Just run the cells and review the results. "
      ]
    },
    {
      "cell_type": "code",
      "metadata": {
        "id": "SDmkFKTr8Pgd",
        "colab_type": "code",
        "colab": {
          "base_uri": "https://localhost:8080/",
          "height": 51
        },
        "outputId": "e66f44a2-973c-4ff5-84d6-05db6c84448a"
      },
      "source": [
        "import tensorflow as tf\n",
        "import os\n",
        "from tensorflow.keras.models import Sequential, Model # <- May Use\n",
        "from tensorflow.keras.layers import Dense, Conv2D, MaxPooling2D, Flatten\n",
        "_URL = 'https://lambdaschool-data-science.s3.amazonaws.com/mountains_v_forest/mountain_v_forest_data.zip'\n",
        "\n",
        "path_to_zip = tf.keras.utils.get_file('./data.zip', origin=_URL, extract=True)\n",
        "PATH = os.path.join(os.path.dirname(path_to_zip), 'data')"
      ],
      "execution_count": 2,
      "outputs": [
        {
          "output_type": "stream",
          "text": [
            "Downloading data from https://lambdaschool-data-science.s3.amazonaws.com/mountains_v_forest/mountain_v_forest_data.zip\n",
            "375046144/375045706 [==============================] - 5s 0us/step\n"
          ],
          "name": "stdout"
        }
      ]
    },
    {
      "cell_type": "code",
      "metadata": {
        "id": "z13CmXDo8Pgj",
        "colab_type": "code",
        "colab": {}
      },
      "source": [
        "train_dir = os.path.join(PATH, 'train')\n",
        "validation_dir = os.path.join(PATH, 'validation')"
      ],
      "execution_count": 3,
      "outputs": []
    },
    {
      "cell_type": "code",
      "metadata": {
        "id": "fKrJWCdw8Pgn",
        "colab_type": "code",
        "colab": {}
      },
      "source": [
        "train_mountain_dir = os.path.join(train_dir, 'mountain')  # directory with our training cat pictures\n",
        "train_forest_dir = os.path.join(train_dir, 'forest')  # directory with our training dog pictures\n",
        "validation_mountain_dir = os.path.join(validation_dir, 'mountain')  # directory with our validation cat pictures\n",
        "validation_forest_dir = os.path.join(validation_dir, 'forest')  # directory with our validation dog pictures"
      ],
      "execution_count": 4,
      "outputs": []
    },
    {
      "cell_type": "code",
      "metadata": {
        "id": "GHdEWkvhCovE",
        "colab_type": "code",
        "colab": {
          "base_uri": "https://localhost:8080/",
          "height": 35
        },
        "outputId": "c7fd0bfb-a15b-4873-f564-a771e8700db2"
      },
      "source": [
        "train_mountain_dir"
      ],
      "execution_count": 5,
      "outputs": [
        {
          "output_type": "execute_result",
          "data": {
            "application/vnd.google.colaboratory.intrinsic": {
              "type": "string"
            },
            "text/plain": [
              "'/root/.keras/datasets/./data/train/mountain'"
            ]
          },
          "metadata": {
            "tags": []
          },
          "execution_count": 5
        }
      ]
    },
    {
      "cell_type": "code",
      "metadata": {
        "id": "zDHkrsVTCnoq",
        "colab_type": "code",
        "colab": {}
      },
      "source": [
        ""
      ],
      "execution_count": 5,
      "outputs": []
    },
    {
      "cell_type": "code",
      "metadata": {
        "id": "YSopRoFO8Pgv",
        "colab_type": "code",
        "colab": {}
      },
      "source": [
        "num_mountain_tr = len(os.listdir(train_mountain_dir))\n",
        "num_forest_tr = len(os.listdir(train_forest_dir))\n",
        "\n",
        "num_mountain_val = len(os.listdir(validation_mountain_dir))\n",
        "num_forest_val = len(os.listdir(validation_forest_dir))\n",
        "\n",
        "total_train = num_mountain_tr + num_forest_tr\n",
        "total_val = num_mountain_val + num_forest_val"
      ],
      "execution_count": 6,
      "outputs": []
    },
    {
      "cell_type": "code",
      "metadata": {
        "id": "0tUt6hH78Pgz",
        "colab_type": "code",
        "colab": {
          "base_uri": "https://localhost:8080/",
          "height": 136
        },
        "outputId": "b473329e-7702-4433-b19a-928eef54762e"
      },
      "source": [
        "print('total training mountain images:', num_mountain_tr)\n",
        "print('total training forest images:', num_forest_tr)\n",
        "\n",
        "print('total validation mountain images:', num_mountain_val)\n",
        "print('total validation forest images:', num_forest_val)\n",
        "print(\"--\")\n",
        "print(\"Total training images:\", total_train)\n",
        "print(\"Total validation images:\", total_val)"
      ],
      "execution_count": 7,
      "outputs": [
        {
          "output_type": "stream",
          "text": [
            "total training mountain images: 296\n",
            "total training forest images: 326\n",
            "total validation mountain images: 125\n",
            "total validation forest images: 62\n",
            "--\n",
            "Total training images: 622\n",
            "Total validation images: 187\n"
          ],
          "name": "stdout"
        }
      ]
    },
    {
      "cell_type": "markdown",
      "metadata": {
        "id": "94mHC8d-8Pg2",
        "colab_type": "text"
      },
      "source": [
        "### Keras `ImageGenerator` to Process the Data\n",
        "\n",
        "This step is completed for you, but please review the code. The `ImageGenerator` class reads in batches of data from a directory and pass them to the model one batch at a time. Just like large text files, this method is advantageous, because it stifles the need to load a bunch of images into memory. \n",
        "\n",
        "Check out the documentation for this class method: [Keras `ImageGenerator` Class](https://keras.io/preprocessing/image/#imagedatagenerator-class). You'll expand it's use in the third assignment objective."
      ]
    },
    {
      "cell_type": "code",
      "metadata": {
        "id": "xjONYdm18Pg2",
        "colab_type": "code",
        "colab": {}
      },
      "source": [
        "batch_size = 16\n",
        "epochs = 50\n",
        "IMG_HEIGHT = 224\n",
        "IMG_WIDTH = 224"
      ],
      "execution_count": 8,
      "outputs": []
    },
    {
      "cell_type": "code",
      "metadata": {
        "id": "JCP_CS-X8Pg6",
        "colab_type": "code",
        "colab": {}
      },
      "source": [
        "from tensorflow.keras.preprocessing.image import ImageDataGenerator\n",
        "\n",
        "train_image_generator = ImageDataGenerator(rescale=1./255) # Generator for our training data\n",
        "validation_image_generator = ImageDataGenerator(rescale=1./255) # Generator for our validation data"
      ],
      "execution_count": 9,
      "outputs": []
    },
    {
      "cell_type": "code",
      "metadata": {
        "id": "7TEU0sYG8Pg-",
        "colab_type": "code",
        "colab": {
          "base_uri": "https://localhost:8080/",
          "height": 34
        },
        "outputId": "252d0e88-c141-44f3-e600-6c73eaab2083"
      },
      "source": [
        "train_data_gen = train_image_generator.flow_from_directory(batch_size=batch_size,\n",
        "                                                           directory=train_dir,\n",
        "                                                           shuffle=True,\n",
        "                                                           target_size=(IMG_HEIGHT, IMG_WIDTH),\n",
        "                                                           class_mode='binary')"
      ],
      "execution_count": 10,
      "outputs": [
        {
          "output_type": "stream",
          "text": [
            "Found 631 images belonging to 2 classes.\n"
          ],
          "name": "stdout"
        }
      ]
    },
    {
      "cell_type": "code",
      "metadata": {
        "id": "ycKn9sbr8PhB",
        "colab_type": "code",
        "colab": {
          "base_uri": "https://localhost:8080/",
          "height": 34
        },
        "outputId": "d951335a-addd-419c-edb4-7a78362cdaeb"
      },
      "source": [
        "val_data_gen = validation_image_generator.flow_from_directory(batch_size=batch_size,\n",
        "                                                              directory=validation_dir,\n",
        "                                                              target_size=(IMG_HEIGHT, IMG_WIDTH),\n",
        "                                                              class_mode='binary')"
      ],
      "execution_count": 11,
      "outputs": [
        {
          "output_type": "stream",
          "text": [
            "Found 195 images belonging to 2 classes.\n"
          ],
          "name": "stdout"
        }
      ]
    },
    {
      "cell_type": "markdown",
      "metadata": {
        "id": "z5D3LAIo8PhE",
        "colab_type": "text"
      },
      "source": [
        "## Instatiate Model"
      ]
    },
    {
      "cell_type": "code",
      "metadata": {
        "id": "rlfxehzJ8PhE",
        "colab_type": "code",
        "colab": {
          "base_uri": "https://localhost:8080/",
          "height": 51
        },
        "outputId": "45ad7f70-e148-4c0d-e4a0-0252468854d0"
      },
      "source": [
        "from tensorflow.keras.applications.resnet50 import ResNet50\n",
        "from tensorflow.keras.layers import Input, Dense, GlobalAveragePooling2D, Dropout\n",
        "res = ResNet50(input_shape=(224, 224, 3), weights='imagenet', include_top=False)\n",
        "\n",
        "for layer in res.layers:\n",
        "    layer.trainable = False\n",
        "    \n",
        "# add your head on top\n",
        "x = res.output\n",
        "x = GlobalAveragePooling2D()(x)\n",
        "x = Dense(1024, activation='relu')(x)\n",
        "x = Dropout(0.25)(x)\n",
        "x = Dense(1024, activation='relu')(x)\n",
        "x = Dropout(0.25)(x)\n",
        "predictions = Dense(2, activation='softmax')(x)\n",
        "\n",
        "model = Model(inputs=res.input, outputs=predictions)"
      ],
      "execution_count": 12,
      "outputs": [
        {
          "output_type": "stream",
          "text": [
            "Downloading data from https://storage.googleapis.com/tensorflow/keras-applications/resnet/resnet50_weights_tf_dim_ordering_tf_kernels_notop.h5\n",
            "94773248/94765736 [==============================] - 0s 0us/step\n"
          ],
          "name": "stdout"
        }
      ]
    },
    {
      "cell_type": "code",
      "metadata": {
        "id": "mWQDr3aYeSjd",
        "colab_type": "code",
        "colab": {}
      },
      "source": [
        "model.compile(optimizer='adam',\n",
        "              loss='sparse_categorical_crossentropy',\n",
        "              metrics=['accuracy'])"
      ],
      "execution_count": 13,
      "outputs": []
    },
    {
      "cell_type": "markdown",
      "metadata": {
        "id": "Mm79JNcw8PhH",
        "colab_type": "text"
      },
      "source": [
        "## Fit Model"
      ]
    },
    {
      "cell_type": "code",
      "metadata": {
        "id": "4_6xn4h58PhI",
        "colab_type": "code",
        "colab": {
          "base_uri": "https://localhost:8080/",
          "height": 1000
        },
        "outputId": "7ddc9080-c673-4854-f8ca-435bf0ab016a"
      },
      "source": [
        "history = model.fit(\n",
        "    train_data_gen,\n",
        "    steps_per_epoch=total_train // batch_size,\n",
        "    epochs=epochs,\n",
        "    validation_data=val_data_gen,\n",
        "    validation_steps=total_val // batch_size\n",
        ")"
      ],
      "execution_count": 14,
      "outputs": [
        {
          "output_type": "stream",
          "text": [
            "Epoch 1/50\n",
            "38/38 [==============================] - 38s 1s/step - loss: 1.0231 - accuracy: 0.4858 - val_loss: 0.6497 - val_accuracy: 0.6420\n",
            "Epoch 2/50\n",
            "38/38 [==============================] - 38s 987ms/step - loss: 0.6846 - accuracy: 0.5459 - val_loss: 0.7966 - val_accuracy: 0.3352\n",
            "Epoch 3/50\n",
            "38/38 [==============================] - 37s 973ms/step - loss: 0.6741 - accuracy: 0.5693 - val_loss: 0.6928 - val_accuracy: 0.4375\n",
            "Epoch 4/50\n",
            "38/38 [==============================] - 35s 918ms/step - loss: 0.6078 - accuracy: 0.6628 - val_loss: 0.8000 - val_accuracy: 0.3977\n",
            "Epoch 5/50\n",
            "38/38 [==============================] - 36s 944ms/step - loss: 0.5344 - accuracy: 0.7496 - val_loss: 0.4223 - val_accuracy: 0.7841\n",
            "Epoch 6/50\n",
            "38/38 [==============================] - 37s 961ms/step - loss: 0.5004 - accuracy: 0.7596 - val_loss: 0.4278 - val_accuracy: 0.8636\n",
            "Epoch 7/50\n",
            "38/38 [==============================] - 35s 917ms/step - loss: 0.3930 - accuracy: 0.8347 - val_loss: 0.3790 - val_accuracy: 0.8352\n",
            "Epoch 8/50\n",
            "38/38 [==============================] - 37s 968ms/step - loss: 0.4127 - accuracy: 0.8164 - val_loss: 0.3188 - val_accuracy: 0.9205\n",
            "Epoch 9/50\n",
            "38/38 [==============================] - 37s 977ms/step - loss: 0.4176 - accuracy: 0.8063 - val_loss: 1.0179 - val_accuracy: 0.4886\n",
            "Epoch 10/50\n",
            "38/38 [==============================] - 38s 1s/step - loss: 0.3832 - accuracy: 0.8280 - val_loss: 0.2949 - val_accuracy: 0.9148\n",
            "Epoch 11/50\n",
            "38/38 [==============================] - 37s 972ms/step - loss: 0.3503 - accuracy: 0.8564 - val_loss: 0.2853 - val_accuracy: 0.9148\n",
            "Epoch 12/50\n",
            "38/38 [==============================] - 38s 995ms/step - loss: 0.3174 - accuracy: 0.8798 - val_loss: 0.3019 - val_accuracy: 0.8693\n",
            "Epoch 13/50\n",
            "38/38 [==============================] - 37s 977ms/step - loss: 0.3311 - accuracy: 0.8664 - val_loss: 0.2679 - val_accuracy: 0.9148\n",
            "Epoch 14/50\n",
            "38/38 [==============================] - 35s 933ms/step - loss: 0.3106 - accuracy: 0.8765 - val_loss: 0.2616 - val_accuracy: 0.9205\n",
            "Epoch 15/50\n",
            "38/38 [==============================] - 37s 977ms/step - loss: 0.2742 - accuracy: 0.8980 - val_loss: 0.2366 - val_accuracy: 0.9318\n",
            "Epoch 16/50\n",
            "38/38 [==============================] - 36s 945ms/step - loss: 0.3032 - accuracy: 0.8765 - val_loss: 0.3529 - val_accuracy: 0.8466\n",
            "Epoch 17/50\n",
            "38/38 [==============================] - 38s 992ms/step - loss: 0.2834 - accuracy: 0.8865 - val_loss: 0.2462 - val_accuracy: 0.9261\n",
            "Epoch 18/50\n",
            "38/38 [==============================] - 37s 968ms/step - loss: 0.3333 - accuracy: 0.8514 - val_loss: 0.2552 - val_accuracy: 0.9148\n",
            "Epoch 19/50\n",
            "38/38 [==============================] - 37s 975ms/step - loss: 0.3290 - accuracy: 0.8548 - val_loss: 0.2558 - val_accuracy: 0.9148\n",
            "Epoch 20/50\n",
            "38/38 [==============================] - 37s 985ms/step - loss: 0.2339 - accuracy: 0.9165 - val_loss: 0.2251 - val_accuracy: 0.9318\n",
            "Epoch 21/50\n",
            "38/38 [==============================] - 37s 967ms/step - loss: 0.2812 - accuracy: 0.8898 - val_loss: 0.2411 - val_accuracy: 0.9205\n",
            "Epoch 22/50\n",
            "38/38 [==============================] - 33s 870ms/step - loss: 0.3392 - accuracy: 0.8447 - val_loss: 0.2491 - val_accuracy: 0.9205\n",
            "Epoch 23/50\n",
            "38/38 [==============================] - 37s 983ms/step - loss: 0.2807 - accuracy: 0.8798 - val_loss: 0.3870 - val_accuracy: 0.8239\n",
            "Epoch 24/50\n",
            "38/38 [==============================] - 36s 958ms/step - loss: 0.2993 - accuracy: 0.8881 - val_loss: 0.3297 - val_accuracy: 0.8466\n",
            "Epoch 25/50\n",
            "38/38 [==============================] - 38s 991ms/step - loss: 0.2406 - accuracy: 0.9098 - val_loss: 0.1666 - val_accuracy: 0.9489\n",
            "Epoch 26/50\n",
            "38/38 [==============================] - 37s 974ms/step - loss: 0.3286 - accuracy: 0.8701 - val_loss: 0.2427 - val_accuracy: 0.9205\n",
            "Epoch 27/50\n",
            "38/38 [==============================] - 37s 974ms/step - loss: 0.3322 - accuracy: 0.8497 - val_loss: 0.2391 - val_accuracy: 0.9318\n",
            "Epoch 28/50\n",
            "38/38 [==============================] - 37s 977ms/step - loss: 0.3653 - accuracy: 0.8514 - val_loss: 0.2490 - val_accuracy: 0.9318\n",
            "Epoch 29/50\n",
            "38/38 [==============================] - 37s 969ms/step - loss: 0.3143 - accuracy: 0.8731 - val_loss: 0.2362 - val_accuracy: 0.9375\n",
            "Epoch 30/50\n",
            "38/38 [==============================] - 38s 998ms/step - loss: 0.2923 - accuracy: 0.8816 - val_loss: 0.2263 - val_accuracy: 0.9375\n",
            "Epoch 31/50\n",
            "38/38 [==============================] - 38s 988ms/step - loss: 0.4951 - accuracy: 0.7746 - val_loss: 0.5308 - val_accuracy: 0.7500\n",
            "Epoch 32/50\n",
            "38/38 [==============================] - 37s 967ms/step - loss: 0.3358 - accuracy: 0.8614 - val_loss: 0.5271 - val_accuracy: 0.7557\n",
            "Epoch 33/50\n",
            "38/38 [==============================] - 37s 980ms/step - loss: 0.2863 - accuracy: 0.8865 - val_loss: 0.2278 - val_accuracy: 0.9432\n",
            "Epoch 34/50\n",
            "38/38 [==============================] - 36s 960ms/step - loss: 0.3386 - accuracy: 0.8748 - val_loss: 0.2031 - val_accuracy: 0.9375\n",
            "Epoch 35/50\n",
            "38/38 [==============================] - 36s 950ms/step - loss: 0.3129 - accuracy: 0.8898 - val_loss: 0.2708 - val_accuracy: 0.8807\n",
            "Epoch 36/50\n",
            "38/38 [==============================] - 37s 965ms/step - loss: 0.3275 - accuracy: 0.8798 - val_loss: 0.4083 - val_accuracy: 0.8182\n",
            "Epoch 37/50\n",
            "38/38 [==============================] - 36s 938ms/step - loss: 0.3299 - accuracy: 0.8848 - val_loss: 0.2515 - val_accuracy: 0.8977\n",
            "Epoch 38/50\n",
            "38/38 [==============================] - 37s 969ms/step - loss: 0.3450 - accuracy: 0.8531 - val_loss: 0.2290 - val_accuracy: 0.9318\n",
            "Epoch 39/50\n",
            "38/38 [==============================] - 36s 949ms/step - loss: 0.3083 - accuracy: 0.8915 - val_loss: 0.2860 - val_accuracy: 0.8977\n",
            "Epoch 40/50\n",
            "38/38 [==============================] - 34s 897ms/step - loss: 0.3003 - accuracy: 0.8965 - val_loss: 0.2007 - val_accuracy: 0.9375\n",
            "Epoch 41/50\n",
            "38/38 [==============================] - 37s 963ms/step - loss: 0.3036 - accuracy: 0.8898 - val_loss: 0.2170 - val_accuracy: 0.9318\n",
            "Epoch 42/50\n",
            "38/38 [==============================] - 38s 1s/step - loss: 0.3490 - accuracy: 0.8748 - val_loss: 0.3049 - val_accuracy: 0.8693\n",
            "Epoch 43/50\n",
            "38/38 [==============================] - 36s 951ms/step - loss: 0.3028 - accuracy: 0.8965 - val_loss: 0.2953 - val_accuracy: 0.8636\n",
            "Epoch 44/50\n",
            "38/38 [==============================] - 35s 926ms/step - loss: 0.2560 - accuracy: 0.9132 - val_loss: 0.2086 - val_accuracy: 0.9375\n",
            "Epoch 45/50\n",
            "38/38 [==============================] - 37s 970ms/step - loss: 0.4071 - accuracy: 0.8314 - val_loss: 0.2146 - val_accuracy: 0.9432\n",
            "Epoch 46/50\n",
            "38/38 [==============================] - 37s 981ms/step - loss: 0.4227 - accuracy: 0.8314 - val_loss: 0.2486 - val_accuracy: 0.9432\n",
            "Epoch 47/50\n",
            "38/38 [==============================] - 37s 982ms/step - loss: 0.4541 - accuracy: 0.8047 - val_loss: 0.4246 - val_accuracy: 0.8125\n",
            "Epoch 48/50\n",
            "38/38 [==============================] - 38s 988ms/step - loss: 0.4284 - accuracy: 0.8097 - val_loss: 0.2589 - val_accuracy: 0.9091\n",
            "Epoch 49/50\n",
            "38/38 [==============================] - 35s 927ms/step - loss: 0.4663 - accuracy: 0.7930 - val_loss: 0.4521 - val_accuracy: 0.7841\n",
            "Epoch 50/50\n",
            "38/38 [==============================] - 38s 992ms/step - loss: 0.4437 - accuracy: 0.8114 - val_loss: 0.2316 - val_accuracy: 0.9489\n"
          ],
          "name": "stdout"
        }
      ]
    },
    {
      "cell_type": "code",
      "metadata": {
        "id": "fhx0yeV46Uum",
        "colab_type": "code",
        "colab": {}
      },
      "source": [
        ""
      ],
      "execution_count": 15,
      "outputs": []
    },
    {
      "cell_type": "markdown",
      "metadata": {
        "id": "b11C-_g08PhL",
        "colab_type": "text"
      },
      "source": [
        "# Custom CNN Model\n",
        "\n",
        "In this step, write and train your own convolutional neural network using Keras. You can use any architecture that suits you as long as it has at least one convolutional and one pooling layer at the beginning of the network - you can add more if you want. "
      ]
    },
    {
      "cell_type": "code",
      "metadata": {
        "id": "3o4qdbYj8PhL",
        "colab_type": "code",
        "colab": {}
      },
      "source": [
        "# Define the Model\n"
      ],
      "execution_count": null,
      "outputs": []
    },
    {
      "cell_type": "code",
      "metadata": {
        "id": "E27-YhF08PhO",
        "colab_type": "code",
        "colab": {}
      },
      "source": [
        "# Compile Model"
      ],
      "execution_count": null,
      "outputs": []
    },
    {
      "cell_type": "code",
      "metadata": {
        "id": "m7SFYHDH8PhT",
        "colab_type": "code",
        "colab": {}
      },
      "source": [
        "# Fit Model"
      ],
      "execution_count": null,
      "outputs": []
    },
    {
      "cell_type": "markdown",
      "metadata": {
        "id": "fQefPCUt8PhW",
        "colab_type": "text"
      },
      "source": [
        "# Custom CNN Model with Image Manipulations\n",
        "\n",
        "To simulate an increase in a sample of image, you can apply image manipulation techniques: cropping, rotation, stretching, etc. Luckily Keras has some handy functions for us to apply these techniques to our mountain and forest example. Simply, you should be able to modify our image generator for the problem. Check out these resources to help you get started: \n",
        "\n",
        "1. [Keras `ImageGenerator` Class](https://keras.io/preprocessing/image/#imagedatagenerator-class)\n",
        "2. [Building a powerful image classifier with very little data](https://blog.keras.io/building-powerful-image-classification-models-using-very-little-data.html)\n",
        " "
      ]
    },
    {
      "cell_type": "code",
      "metadata": {
        "id": "a1s8h3om8PhX",
        "colab_type": "code",
        "colab": {}
      },
      "source": [
        ""
      ],
      "execution_count": null,
      "outputs": []
    },
    {
      "cell_type": "markdown",
      "metadata": {
        "colab_type": "text",
        "id": "uT3UV3gap9H6"
      },
      "source": [
        "# Resources and Stretch Goals\n",
        "\n",
        "Stretch goals\n",
        "- Enhance your code to use classes/functions and accept terms to search and classes to look for in recognizing the downloaded images (e.g. download images of parties, recognize all that contain balloons)\n",
        "- Check out [other available pretrained networks](https://tfhub.dev), try some and compare\n",
        "- Image recognition/classification is somewhat solved, but *relationships* between entities and describing an image is not - check out some of the extended resources (e.g. [Visual Genome](https://visualgenome.org/)) on the topic\n",
        "- Transfer learning - using images you source yourself, [retrain a classifier](https://www.tensorflow.org/hub/tutorials/image_retraining) with a new category\n",
        "- (Not CNN related) Use [piexif](https://pypi.org/project/piexif/) to check out the metadata of images passed in to your system - see if they're from a national park! (Note - many images lack GPS metadata, so this won't work in most cases, but still cool)\n",
        "\n",
        "Resources\n",
        "- [Deep Residual Learning for Image Recognition](https://arxiv.org/abs/1512.03385) - influential paper (introduced ResNet)\n",
        "- [YOLO: Real-Time Object Detection](https://pjreddie.com/darknet/yolo/) - an influential convolution based object detection system, focused on inference speed (for applications to e.g. self driving vehicles)\n",
        "- [R-CNN, Fast R-CNN, Faster R-CNN, YOLO](https://towardsdatascience.com/r-cnn-fast-r-cnn-faster-r-cnn-yolo-object-detection-algorithms-36d53571365e) - comparison of object detection systems\n",
        "- [Common Objects in Context](http://cocodataset.org/) - a large-scale object detection, segmentation, and captioning dataset\n",
        "- [Visual Genome](https://visualgenome.org/) - a dataset, a knowledge base, an ongoing effort to connect structured image concepts to language"
      ]
    }
  ]
}